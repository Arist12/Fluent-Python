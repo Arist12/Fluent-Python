{
 "cells": [
  {
   "cell_type": "markdown",
   "metadata": {},
   "source": [
    "# Asynchronous Programming"
   ]
  },
  {
   "cell_type": "markdown",
   "metadata": {},
   "source": [
    "## Key APIs\n",
    "\n",
    "**`asyncio.run(coro())`**\n",
    "\n",
    "Called from a regular function to drive a coroutine object that usually is the entry point for all the asynchronous code in the program.\n",
    "\n",
    "**`asyncio.create_task(coro())`**\n",
    "\n",
    "Called from a coroutine to schedule another coroutine to execute eventually.\n",
    "\n",
    "**`await coro()`**\n",
    "Called from a coroutine to transfer control to the coroutine object returned by `coro()`. This suspends the current coroutine until the body of `coro` returns."
   ]
  },
  {
   "cell_type": "markdown",
   "metadata": {},
   "source": [
    "## A Motivating Example"
   ]
  },
  {
   "cell_type": "code",
   "execution_count": null,
   "metadata": {},
   "outputs": [],
   "source": [
    "import asyncio\n",
    "import socket\n",
    "from keyword import kwlist\n",
    "\n",
    "MAX_KEYWORD_LEN = 4\n",
    "\n",
    "\n",
    "async def probe(domain: str) -> tuple[str, bool]:\n",
    "    loop = asyncio.get_running_loop()\n",
    "    try:\n",
    "        await loop.getaddrinfo(domain, None)\n",
    "    except socket.gaierror:\n",
    "        return (domain, False)\n",
    "    return (domain, True)\n",
    "\n",
    "\n",
    "async def main() -> None:\n",
    "    names = (kw for kw in kwlist if len(kw) <= MAX_KEYWORD_LEN)\n",
    "    domains = (f\"{name}.dev\".lower() for name in names)\n",
    "    coros = [probe(domain) for domain in domains]\n",
    "    for coro in asyncio.as_completed(coros):\n",
    "        domain, found = await coro\n",
    "        mark = \"+\" if found else \" \"\n",
    "        print(f\"{mark} {domain}\")\n",
    "\n",
    "\n",
    "if __name__ == \"__main__\":\n",
    "    asyncio.run(main())"
   ]
  },
  {
   "cell_type": "markdown",
   "metadata": {},
   "source": [
    "This is a common pattern for scripts that use asyncio: implement `main` as a coroutine, and drive it with `asyncio.run` inside the `if __name__ == '__main__':` block."
   ]
  },
  {
   "cell_type": "markdown",
   "metadata": {},
   "source": [
    "## Understanding the difference between coroutine objects and asyncio.Task objects"
   ]
  },
  {
   "cell_type": "code",
   "execution_count": null,
   "metadata": {},
   "outputs": [],
   "source": [
    "import time\n",
    "import asyncio\n",
    "\n",
    "\n",
    "async def take_order(table):\n",
    "    print(f\"开始为 {table} 号桌点餐\")\n",
    "    await asyncio.sleep(1)\n",
    "    print(f\"{table} 号桌点餐完成\")\n",
    "\n",
    "\n",
    "async def main1():\n",
    "    print(\"直接调用方式:\")\n",
    "    await take_order(1)  # 必须等待这个完成\n",
    "    await take_order(2)  # 才能开始下一个\n",
    "    await take_order(3)\n",
    "\n",
    "\n",
    "async def main2():\n",
    "    print(\"create_task 方式:\")\n",
    "    task1 = asyncio.create_task(take_order(1))  # 立即开始执行\n",
    "    task2 = asyncio.create_task(take_order(2))  # 立即开始执行\n",
    "    task3 = asyncio.create_task(take_order(3))  # 立即开始执行\n",
    "\n",
    "    await task1  # 只是等待它们完成\n",
    "    await task2\n",
    "    await task3\n",
    "\n",
    "\n",
    "if __name__ == \"__main__\":\n",
    "    start = time.perf_counter()\n",
    "    asyncio.run(main1())\n",
    "    end = time.perf_counter()\n",
    "    print(f\"main1 总耗时: {end - start} 秒\")\n",
    "\n",
    "    start = time.perf_counter()\n",
    "    asyncio.run(main2())\n",
    "    end = time.perf_counter()\n",
    "    print(f\"main2 总耗时: {end - start} 秒\")"
   ]
  },
  {
   "cell_type": "markdown",
   "metadata": {},
   "source": [
    "## asyncio.gather"
   ]
  },
  {
   "cell_type": "code",
   "execution_count": null,
   "metadata": {},
   "outputs": [],
   "source": [
    "import time\n",
    "import asyncio\n",
    "\n",
    "\n",
    "async def take_order(table):\n",
    "    print(f\"开始为 {table} 号桌点餐\")\n",
    "    await asyncio.sleep(1)\n",
    "    print(f\"{table} 号桌点餐完成\")\n",
    "    return f\"订单 {table}\"\n",
    "\n",
    "\n",
    "async def main():\n",
    "    orders = await asyncio.gather(take_order(1), take_order(2), take_order(3))\n",
    "    return orders\n",
    "\n",
    "\n",
    "if __name__ == \"__main__\":\n",
    "    start = time.perf_counter()\n",
    "    orders = asyncio.run(main())\n",
    "    end = time.perf_counter()\n",
    "    print(f\"总耗时: {end - start} 秒\")\n",
    "    print(orders)"
   ]
  },
  {
   "cell_type": "markdown",
   "metadata": {},
   "source": [
    "## asyncio.as_completed"
   ]
  },
  {
   "cell_type": "code",
   "execution_count": null,
   "metadata": {},
   "outputs": [],
   "source": [
    "import time\n",
    "import asyncio\n",
    "\n",
    "\n",
    "async def take_order(table, time_to_wait):\n",
    "    print(f\"开始为 {table} 号桌点餐\")\n",
    "    await asyncio.sleep(time_to_wait)\n",
    "    print(f\"{table} 号桌点餐完成\")\n",
    "    return f\"订单 {table}\"\n",
    "\n",
    "\n",
    "async def main():\n",
    "    orders = []\n",
    "    tasks = [take_order(1, 3), take_order(2, 2), take_order(3, 1)]\n",
    "\n",
    "    for completed in asyncio.as_completed(tasks):\n",
    "        order = await completed\n",
    "        orders.append(order)\n",
    "    return orders\n",
    "\n",
    "\n",
    "if __name__ == \"__main__\":\n",
    "    start = time.perf_counter()\n",
    "    orders = asyncio.run(main())\n",
    "    end = time.perf_counter()\n",
    "    print(f\"总耗时: {end - start} 秒\")\n",
    "    print(orders)"
   ]
  }
 ],
 "metadata": {
  "kernelspec": {
   "display_name": "dev",
   "language": "python",
   "name": "python3"
  },
  "language_info": {
   "codemirror_mode": {
    "name": "ipython",
    "version": 3
   },
   "file_extension": ".py",
   "mimetype": "text/x-python",
   "name": "python",
   "nbconvert_exporter": "python",
   "pygments_lexer": "ipython3",
   "version": "3.12.4"
  }
 },
 "nbformat": 4,
 "nbformat_minor": 2
}
