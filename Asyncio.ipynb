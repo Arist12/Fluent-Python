{
 "cells": [
  {
   "cell_type": "markdown",
   "metadata": {},
   "source": [
    "# Asynchronous Programming"
   ]
  },
  {
   "cell_type": "markdown",
   "metadata": {},
   "source": [
    "## Key APIs\n",
    "\n",
    "**`asyncio.run(coro())`**\n",
    "\n",
    "Called from a regular function to drive a coroutine object that usually is the entry point for all the asynchronous code in the program.\n",
    "\n",
    "**`asyncio.create_task(coro())`**\n",
    "\n",
    "Called from a coroutine to schedule another coroutine to execute eventually.\n",
    "\n",
    "**`await coro()`**\n",
    "Called from a coroutine to transfer control to the coroutine object returned by `coro()`. This suspends the current coroutine until the body of `coro` returns."
   ]
  },
  {
   "cell_type": "markdown",
   "metadata": {},
   "source": [
    "## A Motivating Example"
   ]
  },
  {
   "cell_type": "code",
   "execution_count": null,
   "metadata": {},
   "outputs": [],
   "source": [
    "import asyncio\n",
    "import socket\n",
    "from keyword import kwlist\n",
    "\n",
    "MAX_KEYWORD_LEN = 4\n",
    "\n",
    "\n",
    "async def probe(domain: str) -> tuple[str, bool]:\n",
    "    loop = asyncio.get_running_loop()\n",
    "    try:\n",
    "        await loop.getaddrinfo(domain, None)\n",
    "    except socket.gaierror:\n",
    "        return (domain, False)\n",
    "    return (domain, True)\n",
    "\n",
    "\n",
    "async def main() -> None:\n",
    "    names = (kw for kw in kwlist if len(kw) <= MAX_KEYWORD_LEN)\n",
    "    domains = (f\"{name}.dev\".lower() for name in names)\n",
    "    coros = [probe(domain) for domain in domains]\n",
    "    for coro in asyncio.as_completed(coros):\n",
    "        domain, found = await coro\n",
    "        mark = \"+\" if found else \" \"\n",
    "        print(f\"{mark} {domain}\")\n",
    "\n",
    "\n",
    "if __name__ == \"__main__\":\n",
    "    asyncio.run(main())"
   ]
  },
  {
   "cell_type": "markdown",
   "metadata": {},
   "source": [
    "This is a common pattern for scripts that use asyncio: implement `main` as a coroutine, and drive it with `asyncio.run` inside the `if __name__ == '__main__':` block."
   ]
  },
  {
   "cell_type": "markdown",
   "metadata": {},
   "source": [
    "## Understanding the difference between coroutine objects and asyncio.Task objects"
   ]
  },
  {
   "cell_type": "code",
   "execution_count": null,
   "metadata": {},
   "outputs": [],
   "source": [
    "import time\n",
    "import asyncio\n",
    "\n",
    "\n",
    "async def take_order(table):\n",
    "    print(f\"开始为 {table} 号桌点餐\")\n",
    "    await asyncio.sleep(1)\n",
    "    print(f\"{table} 号桌点餐完成\")\n",
    "\n",
    "\n",
    "async def main1():\n",
    "    print(\"直接调用方式:\")\n",
    "    await take_order(1)  # 必须等待这个完成\n",
    "    await take_order(2)  # 才能开始下一个\n",
    "    await take_order(3)\n",
    "\n",
    "\n",
    "async def main2():\n",
    "    print(\"create_task 方式:\")\n",
    "    task1 = asyncio.create_task(take_order(1))  # 立即开始执行\n",
    "    task2 = asyncio.create_task(take_order(2))  # 立即开始执行\n",
    "    task3 = asyncio.create_task(take_order(3))  # 立即开始执行\n",
    "\n",
    "    await task1  # 只是等待它们完成\n",
    "    await task2\n",
    "    await task3\n",
    "\n",
    "\n",
    "if __name__ == \"__main__\":\n",
    "    start = time.perf_counter()\n",
    "    asyncio.run(main1())\n",
    "    end = time.perf_counter()\n",
    "    print(f\"main1 总耗时: {end - start} 秒\")\n",
    "\n",
    "    start = time.perf_counter()\n",
    "    asyncio.run(main2())\n",
    "    end = time.perf_counter()\n",
    "    print(f\"main2 总耗时: {end - start} 秒\")"
   ]
  },
  {
   "cell_type": "markdown",
   "metadata": {},
   "source": [
    "## asyncio.gather"
   ]
  },
  {
   "cell_type": "code",
   "execution_count": null,
   "metadata": {},
   "outputs": [],
   "source": [
    "import time\n",
    "import asyncio\n",
    "\n",
    "\n",
    "async def take_order(table):\n",
    "    print(f\"开始为 {table} 号桌点餐\")\n",
    "    await asyncio.sleep(1)\n",
    "    print(f\"{table} 号桌点餐完成\")\n",
    "    return f\"订单 {table}\"\n",
    "\n",
    "\n",
    "async def main():\n",
    "    orders = await asyncio.gather(take_order(1), take_order(2), take_order(3))\n",
    "    return orders\n",
    "\n",
    "\n",
    "if __name__ == \"__main__\":\n",
    "    start = time.perf_counter()\n",
    "    orders = asyncio.run(main())\n",
    "    end = time.perf_counter()\n",
    "    print(f\"总耗时: {end - start} 秒\")\n",
    "    print(orders)"
   ]
  },
  {
   "cell_type": "markdown",
   "metadata": {},
   "source": [
    "## asyncio.as_completed"
   ]
  },
  {
   "cell_type": "code",
   "execution_count": null,
   "metadata": {},
   "outputs": [],
   "source": [
    "import time\n",
    "import asyncio\n",
    "\n",
    "\n",
    "async def take_order(table, time_to_wait):\n",
    "    print(f\"开始为 {table} 号桌点餐\")\n",
    "    await asyncio.sleep(time_to_wait)\n",
    "    print(f\"{table} 号桌点餐完成\")\n",
    "    return f\"订单 {table}\"\n",
    "\n",
    "\n",
    "async def main():\n",
    "    orders = []\n",
    "    tasks = [take_order(1, 3), take_order(2, 2), take_order(3, 1)]\n",
    "\n",
    "    for completed in asyncio.as_completed(tasks):\n",
    "        order = await completed\n",
    "        orders.append(order)\n",
    "    return orders\n",
    "\n",
    "\n",
    "if __name__ == \"__main__\":\n",
    "    start = time.perf_counter()\n",
    "    orders = asyncio.run(main())\n",
    "    end = time.perf_counter()\n",
    "    print(f\"总耗时: {end - start} 秒\")\n",
    "    print(orders)"
   ]
  },
  {
   "cell_type": "markdown",
   "metadata": {},
   "source": [
    "## asynchronous iterator"
   ]
  },
  {
   "cell_type": "code",
   "execution_count": 1,
   "metadata": {},
   "outputs": [
    {
     "ename": "NameError",
     "evalue": "name 'socket' is not defined",
     "output_type": "error",
     "traceback": [
      "\u001b[0;31m---------------------------------------------------------------------------\u001b[0m",
      "\u001b[0;31mgaierror\u001b[0m                                  Traceback (most recent call last)",
      "Cell \u001b[0;32mIn[1], line 15\u001b[0m, in \u001b[0;36mprobe\u001b[0;34m(domain, loop)\u001b[0m\n\u001b[1;32m     14\u001b[0m \u001b[38;5;28;01mtry\u001b[39;00m:\n\u001b[0;32m---> 15\u001b[0m     \u001b[38;5;28;01mawait\u001b[39;00m loop\u001b[38;5;241m.\u001b[39mgetaddrinfo(domain, \u001b[38;5;28;01mNone\u001b[39;00m)\n\u001b[1;32m     16\u001b[0m \u001b[38;5;28;01mexcept\u001b[39;00m socket\u001b[38;5;241m.\u001b[39mgaierror:\n",
      "File \u001b[0;32m/opt/miniconda3/envs/dev/lib/python3.12/asyncio/base_events.py:901\u001b[0m, in \u001b[0;36mBaseEventLoop.getaddrinfo\u001b[0;34m(self, host, port, family, type, proto, flags)\u001b[0m\n\u001b[1;32m    899\u001b[0m     getaddr_func \u001b[38;5;241m=\u001b[39m socket\u001b[38;5;241m.\u001b[39mgetaddrinfo\n\u001b[0;32m--> 901\u001b[0m \u001b[38;5;28;01mreturn\u001b[39;00m \u001b[38;5;28;01mawait\u001b[39;00m \u001b[38;5;28mself\u001b[39m\u001b[38;5;241m.\u001b[39mrun_in_executor(\n\u001b[1;32m    902\u001b[0m     \u001b[38;5;28;01mNone\u001b[39;00m, getaddr_func, host, port, family, \u001b[38;5;28mtype\u001b[39m, proto, flags)\n",
      "File \u001b[0;32m/opt/miniconda3/envs/dev/lib/python3.12/concurrent/futures/thread.py:58\u001b[0m, in \u001b[0;36m_WorkItem.run\u001b[0;34m(self)\u001b[0m\n\u001b[1;32m     57\u001b[0m \u001b[38;5;28;01mtry\u001b[39;00m:\n\u001b[0;32m---> 58\u001b[0m     result \u001b[38;5;241m=\u001b[39m \u001b[38;5;28;43mself\u001b[39;49m\u001b[38;5;241;43m.\u001b[39;49m\u001b[43mfn\u001b[49m\u001b[43m(\u001b[49m\u001b[38;5;241;43m*\u001b[39;49m\u001b[38;5;28;43mself\u001b[39;49m\u001b[38;5;241;43m.\u001b[39;49m\u001b[43margs\u001b[49m\u001b[43m,\u001b[49m\u001b[43m \u001b[49m\u001b[38;5;241;43m*\u001b[39;49m\u001b[38;5;241;43m*\u001b[39;49m\u001b[38;5;28;43mself\u001b[39;49m\u001b[38;5;241;43m.\u001b[39;49m\u001b[43mkwargs\u001b[49m\u001b[43m)\u001b[49m\n\u001b[1;32m     59\u001b[0m \u001b[38;5;28;01mexcept\u001b[39;00m \u001b[38;5;167;01mBaseException\u001b[39;00m \u001b[38;5;28;01mas\u001b[39;00m exc:\n",
      "File \u001b[0;32m/opt/miniconda3/envs/dev/lib/python3.12/socket.py:964\u001b[0m, in \u001b[0;36mgetaddrinfo\u001b[0;34m(host, port, family, type, proto, flags)\u001b[0m\n\u001b[1;32m    963\u001b[0m addrlist \u001b[38;5;241m=\u001b[39m []\n\u001b[0;32m--> 964\u001b[0m \u001b[38;5;28;01mfor\u001b[39;00m res \u001b[38;5;129;01min\u001b[39;00m \u001b[43m_socket\u001b[49m\u001b[38;5;241;43m.\u001b[39;49m\u001b[43mgetaddrinfo\u001b[49m\u001b[43m(\u001b[49m\u001b[43mhost\u001b[49m\u001b[43m,\u001b[49m\u001b[43m \u001b[49m\u001b[43mport\u001b[49m\u001b[43m,\u001b[49m\u001b[43m \u001b[49m\u001b[43mfamily\u001b[49m\u001b[43m,\u001b[49m\u001b[43m \u001b[49m\u001b[38;5;28;43mtype\u001b[39;49m\u001b[43m,\u001b[49m\u001b[43m \u001b[49m\u001b[43mproto\u001b[49m\u001b[43m,\u001b[49m\u001b[43m \u001b[49m\u001b[43mflags\u001b[49m\u001b[43m)\u001b[49m:\n\u001b[1;32m    965\u001b[0m     af, socktype, proto, canonname, sa \u001b[38;5;241m=\u001b[39m res\n",
      "\u001b[0;31mgaierror\u001b[0m: [Errno 8] nodename nor servname provided, or not known",
      "\nDuring handling of the above exception, another exception occurred:\n",
      "\u001b[0;31mNameError\u001b[0m                                 Traceback (most recent call last)",
      "Cell \u001b[0;32mIn[1], line 29\u001b[0m\n\u001b[1;32m     25\u001b[0m         \u001b[38;5;28;01myield\u001b[39;00m \u001b[38;5;28;01mawait\u001b[39;00m coro\n\u001b[1;32m     28\u001b[0m names \u001b[38;5;241m=\u001b[39m \u001b[38;5;124m\"\u001b[39m\u001b[38;5;124mpython.org rust-lang.org golang.org no-lang.invalid\u001b[39m\u001b[38;5;124m\"\u001b[39m\u001b[38;5;241m.\u001b[39msplit()\n\u001b[0;32m---> 29\u001b[0m \u001b[38;5;28;01masync\u001b[39;00m \u001b[38;5;28;01mfor\u001b[39;00m result \u001b[38;5;129;01min\u001b[39;00m multi_probe(names):\n\u001b[1;32m     30\u001b[0m     \u001b[38;5;28mprint\u001b[39m(\u001b[38;5;241m*\u001b[39mresult, sep\u001b[38;5;241m=\u001b[39m\u001b[38;5;124m\"\u001b[39m\u001b[38;5;130;01m\\t\u001b[39;00m\u001b[38;5;124m\"\u001b[39m)\n",
      "Cell \u001b[0;32mIn[1], line 25\u001b[0m, in \u001b[0;36mmulti_probe\u001b[0;34m(domains)\u001b[0m\n\u001b[1;32m     23\u001b[0m coros \u001b[38;5;241m=\u001b[39m [probe(domain, loop) \u001b[38;5;28;01mfor\u001b[39;00m domain \u001b[38;5;129;01min\u001b[39;00m domains]\n\u001b[1;32m     24\u001b[0m \u001b[38;5;28;01mfor\u001b[39;00m coro \u001b[38;5;129;01min\u001b[39;00m asyncio\u001b[38;5;241m.\u001b[39mas_completed(coros):\n\u001b[0;32m---> 25\u001b[0m     \u001b[38;5;28;01myield\u001b[39;00m \u001b[38;5;28;01mawait\u001b[39;00m coro\n",
      "File \u001b[0;32m/opt/miniconda3/envs/dev/lib/python3.12/asyncio/tasks.py:631\u001b[0m, in \u001b[0;36mas_completed.<locals>._wait_for_one\u001b[0;34m()\u001b[0m\n\u001b[1;32m    628\u001b[0m \u001b[38;5;28;01mif\u001b[39;00m f \u001b[38;5;129;01mis\u001b[39;00m \u001b[38;5;28;01mNone\u001b[39;00m:\n\u001b[1;32m    629\u001b[0m     \u001b[38;5;66;03m# Dummy value from _on_timeout().\u001b[39;00m\n\u001b[1;32m    630\u001b[0m     \u001b[38;5;28;01mraise\u001b[39;00m exceptions\u001b[38;5;241m.\u001b[39mTimeoutError\n\u001b[0;32m--> 631\u001b[0m \u001b[38;5;28;01mreturn\u001b[39;00m \u001b[43mf\u001b[49m\u001b[38;5;241;43m.\u001b[39;49m\u001b[43mresult\u001b[49m\u001b[43m(\u001b[49m\u001b[43m)\u001b[49m\n",
      "Cell \u001b[0;32mIn[1], line 16\u001b[0m, in \u001b[0;36mprobe\u001b[0;34m(domain, loop)\u001b[0m\n\u001b[1;32m     14\u001b[0m \u001b[38;5;28;01mtry\u001b[39;00m:\n\u001b[1;32m     15\u001b[0m     \u001b[38;5;28;01mawait\u001b[39;00m loop\u001b[38;5;241m.\u001b[39mgetaddrinfo(domain, \u001b[38;5;28;01mNone\u001b[39;00m)\n\u001b[0;32m---> 16\u001b[0m \u001b[38;5;28;01mexcept\u001b[39;00m \u001b[43msocket\u001b[49m\u001b[38;5;241m.\u001b[39mgaierror:\n\u001b[1;32m     17\u001b[0m     \u001b[38;5;28;01mreturn\u001b[39;00m Result(domain, \u001b[38;5;28;01mFalse\u001b[39;00m)\n\u001b[1;32m     18\u001b[0m \u001b[38;5;28;01mreturn\u001b[39;00m Result(domain, \u001b[38;5;28;01mTrue\u001b[39;00m)\n",
      "\u001b[0;31mNameError\u001b[0m: name 'socket' is not defined"
     ]
    }
   ],
   "source": [
    "import asyncio\n",
    "import socket\n",
    "from collections.abc import Iterable, AsyncIterator\n",
    "from typing import NamedTuple\n",
    "\n",
    "\n",
    "class Result(NamedTuple):\n",
    "    domain: str\n",
    "    found: bool\n",
    "\n",
    "\n",
    "async def probe(domain: str, loop: None) -> Result:\n",
    "    if loop is None:\n",
    "        loop = asyncio.get_running_loop()\n",
    "    try:\n",
    "        await loop.getaddrinfo(domain, None)\n",
    "    except socket.gaierror:\n",
    "        return Result(domain, False)\n",
    "    return Result(domain, True)\n",
    "\n",
    "\n",
    "async def multi_probe(domains: Iterable[str]) -> AsyncIterator[Result]:\n",
    "    loop = asyncio.get_running_loop()\n",
    "    coros = [probe(domain, loop) for domain in domains]\n",
    "    for coro in asyncio.as_completed(coros):\n",
    "        yield await coro\n",
    "\n",
    "\n",
    "async def main():\n",
    "    names = \"python.org rust-lang.org golang.org no-lang.invalid\".split()\n",
    "    async for result in multi_probe(names):\n",
    "        print(*result, sep=\"\\t\")\n",
    "\n",
    "\n",
    "if __name__ == \"__main__\":\n",
    "    asyncio.run(main())"
   ]
  }
 ],
 "metadata": {
  "kernelspec": {
   "display_name": "dev",
   "language": "python",
   "name": "python3"
  },
  "language_info": {
   "codemirror_mode": {
    "name": "ipython",
    "version": 3
   },
   "file_extension": ".py",
   "mimetype": "text/x-python",
   "name": "python",
   "nbconvert_exporter": "python",
   "pygments_lexer": "ipython3",
   "version": "3.12.4"
  }
 },
 "nbformat": 4,
 "nbformat_minor": 2
}
