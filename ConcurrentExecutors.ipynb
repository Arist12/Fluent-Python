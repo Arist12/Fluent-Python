{
 "cells": [
  {
   "cell_type": "markdown",
   "metadata": {},
   "source": [
    "# Concurrent Executors\n",
    "\n",
    "The `threading` and `multiprocessing` module provide lower-level APIs for working with threads or processes, while the `concurrent.futures` module provides a higher-level interface that abstracts away the complexities of both threading and multiprocessing:\n"
   ]
  },
  {
   "cell_type": "markdown",
   "metadata": {},
   "source": [
    "### ThreadPoolExecutor"
   ]
  },
  {
   "cell_type": "code",
   "execution_count": 2,
   "metadata": {},
   "outputs": [
    {
     "name": "stdout",
     "output_type": "stream",
     "text": [
      "['Computed 0', 'Computed 1', 'Computed 2']\n"
     ]
    }
   ],
   "source": [
    "import time\n",
    "from concurrent.futures import ThreadPoolExecutor\n",
    "\n",
    "\n",
    "# example code\n",
    "def compute(n):\n",
    "    time.sleep(n)  # Simulate a time-consuming computation\n",
    "    return f\"Computed {n}\"\n",
    "\n",
    "\n",
    "def main():\n",
    "    results = []\n",
    "    with ThreadPoolExecutor(max_workers=3) as executor:\n",
    "        res = executor.map(compute, range(3))\n",
    "        results.extend(res)\n",
    "\n",
    "    return results\n",
    "\n",
    "\n",
    "if __name__ == \"__main__\":\n",
    "    print(main())"
   ]
  },
  {
   "cell_type": "code",
   "execution_count": 5,
   "metadata": {},
   "outputs": [
    {
     "name": "stdout",
     "output_type": "stream",
     "text": [
      "[11:23:53] Script starting.\n",
      "[11:23:53] loiter(0): doing nothing for 0s...\n",
      "[11:23:53] loiter(0): done.\n",
      "[11:23:53] \tloiter(1): doing nothing for 1s...\n",
      "[11:23:53] \t\tloiter(2): doing nothing for 2s...\n",
      "[11:23:53] \t\t\tloiter(3): doing nothing for 3s...\n",
      "[11:23:53] results: <generator object Executor.map.<locals>.result_iterator at 0x1095af790>\n",
      "[11:23:53] Waiting for individual results:\n",
      "[11:23:53] result 0: 0\n",
      "[11:23:54] \tloiter(1): done.\n",
      "[11:23:54] \t\t\t\tloiter(4): doing nothing for 4s...\n",
      "[11:23:54] result 1: 10\n",
      "[11:23:55] \t\tloiter(2): done.\n",
      "[11:23:55] result 2: 20\n",
      "[11:23:56] \t\t\tloiter(3): done.\n",
      "[11:23:56] result 3: 30\n",
      "[11:23:58] \t\t\t\tloiter(4): done.\n",
      "[11:23:58] result 4: 40\n"
     ]
    }
   ],
   "source": [
    "from time import sleep, strftime\n",
    "from concurrent import futures\n",
    "\n",
    "\n",
    "def display(*args):\n",
    "    print(strftime(\"[%H:%M:%S]\"), end=\" \")\n",
    "    print(*args)\n",
    "\n",
    "\n",
    "def loiter(n):\n",
    "    msg = \"{}loiter({}): doing nothing for {}s...\"\n",
    "    display(msg.format(\"\\t\" * n, n, n))\n",
    "    sleep(n)\n",
    "    msg = \"{}loiter({}): done.\"\n",
    "    display(msg.format(\"\\t\" * n, n))\n",
    "    return n * 10\n",
    "\n",
    "\n",
    "def main():\n",
    "    display(\"Script starting.\")\n",
    "    executor = futures.ThreadPoolExecutor(max_workers=3)\n",
    "    results = executor.map(loiter, range(5))\n",
    "    display(\"results:\", results)\n",
    "    display(\"Waiting for individual results:\")\n",
    "    for i, result in enumerate(results):\n",
    "        display(f\"result {i}: {result}\")\n",
    "\n",
    "\n",
    "if __name__ == \"__main__\":\n",
    "    main()"
   ]
  },
  {
   "cell_type": "markdown",
   "metadata": {},
   "source": [
    "### ProcessPoolExecutor"
   ]
  },
  {
   "cell_type": "code",
   "execution_count": null,
   "metadata": {},
   "outputs": [],
   "source": [
    "import time\n",
    "from concurrent.futures import ProcessPoolExecutor\n",
    "\n",
    "\n",
    "# example code\n",
    "def compute(n):\n",
    "    time.sleep(n)  # Simulate a time-consuming computation\n",
    "    return f\"Computed {n}\"\n",
    "\n",
    "\n",
    "def main():\n",
    "    results = []\n",
    "    with ProcessPoolExecutor() as executor:\n",
    "        res = executor.map(compute, range(3))\n",
    "        results.extend(res)\n",
    "\n",
    "    return results\n",
    "\n",
    "\n",
    "if __name__ == \"__main__\":\n",
    "    print(main())"
   ]
  }
 ],
 "metadata": {
  "kernelspec": {
   "display_name": "dev",
   "language": "python",
   "name": "python3"
  },
  "language_info": {
   "codemirror_mode": {
    "name": "ipython",
    "version": 3
   },
   "file_extension": ".py",
   "mimetype": "text/x-python",
   "name": "python",
   "nbconvert_exporter": "python",
   "pygments_lexer": "ipython3",
   "version": "3.12.4"
  }
 },
 "nbformat": 4,
 "nbformat_minor": 2
}
