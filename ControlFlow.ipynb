{
 "cells": [
  {
   "cell_type": "markdown",
   "metadata": {},
   "source": [
    "# Control Flow"
   ]
  },
  {
   "cell_type": "markdown",
   "metadata": {},
   "source": [
    "## Iterables & Iterators\n",
    "An iterable is an object that provides an iterator, which Python uses to support operations like:\n",
    "- for loops\n",
    "- List, dict, and set comprehensions\n",
    "- Unpacking assignments\n",
    "- Construction of collection instances\n",
    "\n",
    "Iterators implement a `__next__` method that returns individual items, and an `__iter__` method that returns self.\n",
    "\n",
    "Whenever Python needs to iterate over an object x, it automatically calls iter(x), which:\n",
    "1. Checks whether the object implemenåts `__iter__()`, if so, it calls that method to obtain an iterator.\n",
    "2. If `__iter__()` is not implemented, but `__getitem__()` is implemented, Python creates an iterator that tries to fetch items from the object using `__getitem__()`, starting from index 0.\n",
    "3. If both `__iter__()` and `__getitem__()` are not implemented, Python raises a `TypeError`, indicating that the object is not iterable."
   ]
  },
  {
   "cell_type": "code",
   "execution_count": 4,
   "metadata": {},
   "outputs": [
    {
     "name": "stdout",
     "output_type": "stream",
     "text": [
      "The\n",
      "time\n",
      "has\n",
      "come\n",
      "the\n",
      "Walrus\n",
      "said\n"
     ]
    }
   ],
   "source": [
    "import re\n",
    "\n",
    "RE_WORD = re.compile(r\"\\w+\")\n",
    "\n",
    "\n",
    "class Sentence:\n",
    "    def __init__(self, text):\n",
    "        self.text = text\n",
    "        self.words = RE_WORD.findall(text)\n",
    "\n",
    "    def __iter__(self):\n",
    "        return SentenceIterator(self.words)\n",
    "\n",
    "\n",
    "class SentenceIterator:\n",
    "    def __init__(self, words):\n",
    "        self.words = words\n",
    "        self.index = 0\n",
    "\n",
    "    def __next__(self):\n",
    "        try:\n",
    "            word = self.words[self.index]\n",
    "        except IndexError:\n",
    "            raise StopIteration()\n",
    "        self.index += 1\n",
    "        return word\n",
    "\n",
    "    def __iter__(self):\n",
    "        return self\n",
    "\n",
    "\n",
    "# sample code\n",
    "s = Sentence(\"The time has come, the Walrus said\")\n",
    "for word in s:\n",
    "    print(word)"
   ]
  },
  {
   "cell_type": "markdown",
   "metadata": {},
   "source": [
    "## Generators"
   ]
  },
  {
   "cell_type": "markdown",
   "metadata": {},
   "source": [
    "Generators are ***a special type of iterator*** that are created with the `yield` keyword.\n",
    "\n",
    "Generators are a more concise way to create iterators. Behind the scenes, Python automatically implements the `__iter__()` and `__next__()` methods."
   ]
  },
  {
   "cell_type": "code",
   "execution_count": 8,
   "metadata": {},
   "outputs": [
    {
     "name": "stdout",
     "output_type": "stream",
     "text": [
      "The\n",
      "time\n",
      "has\n",
      "come\n",
      "the\n",
      "Walrus\n",
      "said\n"
     ]
    }
   ],
   "source": [
    "import re\n",
    "import reprlib\n",
    "\n",
    "RE_WORD = re.compile(r\"\\w+\")\n",
    "\n",
    "\n",
    "class Sentence:\n",
    "    def __init__(self, text):\n",
    "        self.text = text\n",
    "        self.words = RE_WORD.findall(text)\n",
    "\n",
    "    def __repr__(self):\n",
    "        return \"Sentence(%s)\" % reprlib.repr(self.text)\n",
    "\n",
    "    def __iter__(self):\n",
    "        for word in self.words:\n",
    "            yield word\n",
    "\n",
    "\n",
    "# sample code\n",
    "s = Sentence(\"The time has come, the Walrus said\")\n",
    "for word in s:\n",
    "    print(word)"
   ]
  },
  {
   "cell_type": "markdown",
   "metadata": {},
   "source": [
    "### Lazy Generators"
   ]
  },
  {
   "cell_type": "code",
   "execution_count": 10,
   "metadata": {},
   "outputs": [
    {
     "name": "stdout",
     "output_type": "stream",
     "text": [
      "The\n",
      "time\n",
      "has\n",
      "come\n",
      "the\n",
      "Walrus\n",
      "said\n"
     ]
    }
   ],
   "source": [
    "class Sentence:\n",
    "    def __init__(self, text):\n",
    "        self.text = text\n",
    "\n",
    "    def __repr__(self):\n",
    "        return f\"Sentence({reprlib.repr(self.text)})\"\n",
    "\n",
    "    def __iter__(self):\n",
    "        for match in RE_WORD.finditer(self.text):\n",
    "            yield match.group()\n",
    "\n",
    "\n",
    "# sample code\n",
    "s = Sentence(\"The time has come, the Walrus said\")\n",
    "for word in s:\n",
    "    print(word)"
   ]
  },
  {
   "cell_type": "markdown",
   "metadata": {},
   "source": [
    "### Generator Functions in the Standard Library"
   ]
  },
  {
   "cell_type": "markdown",
   "metadata": {},
   "source": [
    "Yields accumulated sums. If a function is provided, it yields the result of applying the function to the first pair of items, then to the first result and the next item, and so on."
   ]
  },
  {
   "cell_type": "code",
   "execution_count": 13,
   "metadata": {},
   "outputs": [
    {
     "name": "stdout",
     "output_type": "stream",
     "text": [
      "[5, 9, 11, 19, 26]\n",
      "[5, 4, 2, 2, 2]\n",
      "[5, 5, 5, 8, 8]\n",
      "[5, 20, 40, 320, 2240]\n",
      "[1, 2, 6, 24, 120, 720, 5040, 40320, 362880, 3628800]\n"
     ]
    }
   ],
   "source": [
    "import itertools\n",
    "import operator\n",
    "\n",
    "sample = [5, 4, 2, 8, 7]\n",
    "print(list(itertools.accumulate(sample)))\n",
    "print(list(itertools.accumulate(sample, min)))\n",
    "print(list(itertools.accumulate(sample, max)))\n",
    "print(list(itertools.accumulate(sample, operator.mul)))\n",
    "print(list(itertools.accumulate(range(1, 11), operator.mul)))"
   ]
  },
  {
   "cell_type": "code",
   "execution_count": 26,
   "metadata": {},
   "outputs": [
    {
     "name": "stdout",
     "output_type": "stream",
     "text": [
      "[6, 20, 42]\n",
      "[6, 20, 42]\n"
     ]
    }
   ],
   "source": [
    "import itertools\n",
    "\n",
    "data = [(2, 3), (4, 5), (6, 7)]\n",
    "result = itertools.starmap(lambda x, y: x * y, data)\n",
    "result_2 = map(lambda x: x[0] * x[1], data)\n",
    "print(list(result))  # Output: [6, 20, 42]\n",
    "print(list(result_2))  # Output: [6, 20, 42]"
   ]
  },
  {
   "cell_type": "code",
   "execution_count": 17,
   "metadata": {},
   "outputs": [
    {
     "name": "stdout",
     "output_type": "stream",
     "text": [
      "[1, 2, 3, 'a', 'b', 'c', True, False]\n"
     ]
    }
   ],
   "source": [
    "import itertools\n",
    "\n",
    "list1 = [1, 2, 3]\n",
    "list2 = [\"a\", \"b\", \"c\"]\n",
    "list3 = [True, False]\n",
    "\n",
    "# Chain them together\n",
    "result = itertools.chain(list1, list2, list3)\n",
    "print(list(result))"
   ]
  },
  {
   "cell_type": "code",
   "execution_count": 16,
   "metadata": {},
   "outputs": [
    {
     "name": "stdout",
     "output_type": "stream",
     "text": [
      "[1, 2, 3, 'a', 'b', 'c', True, False]\n"
     ]
    }
   ],
   "source": [
    "import itertools\n",
    "\n",
    "nested_lists = [[1, 2, 3], [\"a\", \"b\", \"c\"], [True, False]]\n",
    "\n",
    "# Flatten the nested lists by one level\n",
    "result = itertools.chain.from_iterable(nested_lists)\n",
    "print(list(result))"
   ]
  },
  {
   "cell_type": "code",
   "execution_count": 19,
   "metadata": {},
   "outputs": [
    {
     "name": "stdout",
     "output_type": "stream",
     "text": [
      "[(1, 'a'), (1, 'b'), (2, 'a'), (2, 'b')]\n",
      "[('♠', 1, '♠', 1), ('♠', 1, '♠', 2), ('♠', 1, '♥', 1), ('♠', 1, '♥', 2), ('♠', 2, '♠', 1), ('♠', 2, '♠', 2), ('♠', 2, '♥', 1), ('♠', 2, '♥', 2), ('♥', 1, '♠', 1), ('♥', 1, '♠', 2), ('♥', 1, '♥', 1), ('♥', 1, '♥', 2), ('♥', 2, '♠', 1), ('♥', 2, '♠', 2), ('♥', 2, '♥', 1), ('♥', 2, '♥', 2)]\n"
     ]
    }
   ],
   "source": [
    "import itertools\n",
    "\n",
    "# Cartesian product of two iterables\n",
    "list1 = [1, 2]\n",
    "list2 = [\"a\", \"b\"]\n",
    "result = itertools.product(list1, list2)\n",
    "print(list(result))  # Output: [(1, 'a'), (1, 'b'), (2, 'a'), (2, 'b')]\n",
    "\n",
    "# Using the repeat parameter\n",
    "suits = [\"♠\", \"♥\"]\n",
    "result = itertools.product(suits, repeat=2)\n",
    "print(list(result))  # Output: [('♠', '♠'), ('♠', '♥'), ('♥', '♠'), ('♥', '♥')]"
   ]
  },
  {
   "cell_type": "code",
   "execution_count": 20,
   "metadata": {},
   "outputs": [
    {
     "name": "stdout",
     "output_type": "stream",
     "text": [
      "[('A', 'B'), ('A', 'C'), ('B', 'C')]\n",
      "[('A', 'A'), ('A', 'B'), ('A', 'C'), ('B', 'B'), ('B', 'C'), ('C', 'C')]\n",
      "[('A', 'B'), ('A', 'C'), ('B', 'A'), ('B', 'C'), ('C', 'A'), ('C', 'B')]\n",
      "[('A', 'A'), ('A', 'B'), ('A', 'C'), ('B', 'A'), ('B', 'B'), ('B', 'C'), ('C', 'A'), ('C', 'B'), ('C', 'C')]\n"
     ]
    }
   ],
   "source": [
    "print(list(itertools.combinations(\"ABC\", 2)))\n",
    "print(list(itertools.combinations_with_replacement(\"ABC\", 2)))\n",
    "print(list(itertools.permutations(\"ABC\", 2)))\n",
    "print(list(itertools.product(\"ABC\", repeat=2)))"
   ]
  },
  {
   "cell_type": "code",
   "execution_count": 21,
   "metadata": {},
   "outputs": [
    {
     "name": "stdout",
     "output_type": "stream",
     "text": [
      "3 -> ['rat', 'bat']\n",
      "4 -> ['duck', 'bear', 'lion']\n",
      "5 -> ['eagle', 'shark']\n",
      "7 -> ['giraffe', 'dolphin']\n"
     ]
    }
   ],
   "source": [
    "import itertools\n",
    "\n",
    "animals = [\"duck\", \"eagle\", \"rat\", \"giraffe\", \"bear\", \"bat\", \"dolphin\", \"shark\", \"lion\"]\n",
    "animals.sort(key=len)\n",
    "\n",
    "for length, group in itertools.groupby(animals, len):\n",
    "    print(length, \"->\", list(group))"
   ]
  },
  {
   "cell_type": "markdown",
   "metadata": {},
   "source": [
    "### Subgenerators"
   ]
  },
  {
   "cell_type": "code",
   "execution_count": 23,
   "metadata": {},
   "outputs": [
    {
     "name": "stdout",
     "output_type": "stream",
     "text": [
      "This is delegator\n",
      "Hello\n",
      "World\n",
      "<-- Done!\n",
      "End of delegator\n"
     ]
    }
   ],
   "source": [
    "def subgen():\n",
    "    yield \"Hello\"\n",
    "    yield \"World\"\n",
    "    return \"Done!\"\n",
    "\n",
    "\n",
    "def delegator():\n",
    "    yield \"This is delegator\"\n",
    "    ret = yield from subgen()\n",
    "    print(\"<--\", ret)\n",
    "    yield \"End of delegator\"\n",
    "\n",
    "\n",
    "for x in delegator():\n",
    "    print(x)"
   ]
  },
  {
   "cell_type": "markdown",
   "metadata": {},
   "source": [
    "## Context Manager and With"
   ]
  },
  {
   "cell_type": "markdown",
   "metadata": {},
   "source": [
    "Context manager objects are used to control a with statement, similar to how iterators are used to control a for statement.\n",
    "\n",
    "The context manager interface includes the `__enter__` and `__exit__` methods. At the beginning of the with statement, Python invokes the `__enter__` method of the context manager object. When the with block finishes or exits for any reason, Python calls the `__exit__` method on the context manager object."
   ]
  },
  {
   "cell_type": "code",
   "execution_count": 25,
   "metadata": {},
   "outputs": [
    {
     "name": "stdout",
     "output_type": "stream",
     "text": [
      "!dlrow ,olleH\n",
      "rorrim eht si sihT\n",
      "Back to normal.\n"
     ]
    }
   ],
   "source": [
    "import sys\n",
    "\n",
    "\n",
    "class LookingGlass:\n",
    "    def __enter__(self):\n",
    "        self.original_write = sys.stdout.write\n",
    "        sys.stdout.write = self.reverse_write\n",
    "        return \"This is the mirror\"\n",
    "\n",
    "    def reverse_write(self, text):\n",
    "        self.original_write(text[::-1])\n",
    "\n",
    "    def __exit__(self, exc_type, exc_value, traceback):\n",
    "        sys.stdout.write = self.original_write\n",
    "        if exc_type is ZeroDivisionError:\n",
    "            print(\"Please DO NOT divide by zero!\")\n",
    "        return True\n",
    "\n",
    "\n",
    "# sample code\n",
    "with LookingGlass() as what:\n",
    "    print(\"Hello, world!\")\n",
    "    print(what)\n",
    "\n",
    "print(\"Back to normal.\")"
   ]
  },
  {
   "cell_type": "markdown",
   "metadata": {},
   "source": [
    "### Using @contextmanager\n",
    "\n",
    "In a generator decorated with @contextmanager, yield splits the body of the function in two parts: everything before the yield will be executed at the beginning of the with block when the interpreter calls `__enter__`; the code after yield will run when `__exit__` is called at the end of the block.\n",
    "\n",
    "The @contextmanager decorator elegantly combines three distinct Python features: a function decorator, a generator, and the with statement."
   ]
  },
  {
   "cell_type": "code",
   "execution_count": 27,
   "metadata": {},
   "outputs": [
    {
     "name": "stdout",
     "output_type": "stream",
     "text": [
      "!dlrow ,olleH\n",
      "YKCOWREBBAJ\n",
      "Back to normal.\n"
     ]
    }
   ],
   "source": [
    "import contextlib\n",
    "import sys\n",
    "\n",
    "\n",
    "@contextlib.contextmanager\n",
    "def looking_glass():\n",
    "    original_write = sys.stdout.write\n",
    "\n",
    "    def reverse_write(text):\n",
    "        original_write(text[::-1])\n",
    "\n",
    "    sys.stdout.write = reverse_write\n",
    "    yield \"JABBERWOCKY\"\n",
    "    sys.stdout.write = original_write\n",
    "\n",
    "\n",
    "# sample code\n",
    "with looking_glass() as what:\n",
    "    print(\"Hello, world!\")\n",
    "    print(what)\n",
    "\n",
    "print(\"Back to normal.\")"
   ]
  },
  {
   "cell_type": "markdown",
   "metadata": {},
   "source": [
    "## Concurrency Models"
   ]
  },
  {
   "cell_type": "code",
   "execution_count": null,
   "metadata": {},
   "outputs": [],
   "source": []
  }
 ],
 "metadata": {
  "kernelspec": {
   "display_name": "dev",
   "language": "python",
   "name": "python3"
  },
  "language_info": {
   "codemirror_mode": {
    "name": "ipython",
    "version": 3
   },
   "file_extension": ".py",
   "mimetype": "text/x-python",
   "name": "python",
   "nbconvert_exporter": "python",
   "pygments_lexer": "ipython3",
   "version": "3.12.4"
  }
 },
 "nbformat": 4,
 "nbformat_minor": 2
}
