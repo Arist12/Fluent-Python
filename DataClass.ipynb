{
 "cells": [
  {
   "cell_type": "markdown",
   "metadata": {},
   "source": [
    "# Data Class\n",
    "\n",
    "> Data Class is a simple class that’s just a collection of fields, with little or no extra functionality. "
   ]
  },
  {
   "cell_type": "markdown",
   "metadata": {},
   "source": [
    "## namedtuple"
   ]
  },
  {
   "cell_type": "markdown",
   "metadata": {},
   "source": [
    "NamedTuple builds tuple subclasses, so their instances are immutable."
   ]
  },
  {
   "cell_type": "code",
   "execution_count": 1,
   "metadata": {},
   "outputs": [
    {
     "data": {
      "text/plain": [
       "Vector(x=10, y=20, z=30)"
      ]
     },
     "execution_count": 1,
     "metadata": {},
     "output_type": "execute_result"
    }
   ],
   "source": [
    "from typing import NamedTuple\n",
    "\n",
    "Vector = NamedTuple(\"Vector\", x=float, y=float, z=float)\n",
    "\n",
    "v1 = Vector(10, 20, 30)\n",
    "v1"
   ]
  },
  {
   "cell_type": "markdown",
   "metadata": {},
   "source": [
    "## dataclass"
   ]
  },
  {
   "cell_type": "code",
   "execution_count": 8,
   "metadata": {},
   "outputs": [
    {
     "name": "stdout",
     "output_type": "stream",
     "text": [
      "Hi, this is Arist12!\n",
      "ClubMember(name='Arist12', guests=[])\n",
      "{'name': 'Arist12', 'guests': []}\n"
     ]
    }
   ],
   "source": [
    "from dataclasses import dataclass, field\n",
    "\n",
    "\n",
    "@dataclass(frozen=True)\n",
    "class ClubMember:\n",
    "    name: str = \"Arist12\"\n",
    "    guests: list = field(default_factory=list)\n",
    "\n",
    "    def __post_init__(self):\n",
    "        if self.name == \"Arist12\":\n",
    "            print(\"Hi, this is Arist12!\")\n",
    "\n",
    "\n",
    "a = ClubMember()\n",
    "\n",
    "# convert to dict\n",
    "print(a)\n",
    "print(a.__dict__)"
   ]
  }
 ],
 "metadata": {
  "kernelspec": {
   "display_name": "dev",
   "language": "python",
   "name": "python3"
  },
  "language_info": {
   "codemirror_mode": {
    "name": "ipython",
    "version": 3
   },
   "file_extension": ".py",
   "mimetype": "text/x-python",
   "name": "python",
   "nbconvert_exporter": "python",
   "pygments_lexer": "ipython3",
   "version": "3.12.4"
  }
 },
 "nbformat": 4,
 "nbformat_minor": 2
}
